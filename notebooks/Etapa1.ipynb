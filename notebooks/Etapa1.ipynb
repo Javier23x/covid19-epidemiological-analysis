{
 "cells": [
  {
   "cell_type": "code",
   "execution_count": 1,
   "id": "a8f5e70b",
   "metadata": {},
   "outputs": [
    {
     "name": "stdout",
     "output_type": "stream",
     "text": [
      "Cargando: 02-01-2020.csv\n",
      "Cargando: 02-02-2020.csv\n",
      "Error con 02-02-2020.csv: HTTP Error 429: Too Many Requests\n",
      "Cargando: 02-03-2020.csv\n",
      "Error con 02-03-2020.csv: HTTP Error 429: Too Many Requests\n",
      "Cargando: 02-04-2020.csv\n",
      "Error con 02-04-2020.csv: HTTP Error 429: Too Many Requests\n",
      "Cargando: 02-05-2020.csv\n",
      "Error con 02-05-2020.csv: HTTP Error 429: Too Many Requests\n",
      "Cargando: 02-06-2020.csv\n",
      "Error con 02-06-2020.csv: HTTP Error 429: Too Many Requests\n",
      "Cargando: 02-07-2020.csv\n",
      "Cargando: 02-08-2020.csv\n",
      "Error con 02-08-2020.csv: HTTP Error 429: Too Many Requests\n",
      "Cargando: 02-09-2020.csv\n",
      "Error con 02-09-2020.csv: HTTP Error 429: Too Many Requests\n",
      "Cargando: 02-10-2020.csv\n",
      "Cargando: 02-11-2020.csv\n",
      "Error con 02-11-2020.csv: HTTP Error 429: Too Many Requests\n",
      "Cargando: 02-12-2020.csv\n",
      "Error con 02-12-2020.csv: HTTP Error 429: Too Many Requests\n",
      "Cargando: 02-13-2020.csv\n",
      "Error con 02-13-2020.csv: HTTP Error 429: Too Many Requests\n",
      "Cargando: 02-14-2020.csv\n",
      "Error con 02-14-2020.csv: HTTP Error 429: Too Many Requests\n",
      "Cargando: 02-15-2020.csv\n",
      "Error con 02-15-2020.csv: HTTP Error 429: Too Many Requests\n",
      "Cargando: 02-16-2020.csv\n",
      "Error con 02-16-2020.csv: HTTP Error 429: Too Many Requests\n",
      "Cargando: 02-17-2020.csv\n",
      "Cargando: 02-18-2020.csv\n",
      "Error con 02-18-2020.csv: HTTP Error 429: Too Many Requests\n",
      "Cargando: 02-19-2020.csv\n",
      "Error con 02-19-2020.csv: HTTP Error 429: Too Many Requests\n",
      "Cargando: 02-20-2020.csv\n",
      "Error con 02-20-2020.csv: HTTP Error 429: Too Many Requests\n",
      "Cargando: 02-21-2020.csv\n",
      "Error con 02-21-2020.csv: HTTP Error 429: Too Many Requests\n",
      "Cargando: 02-22-2020.csv\n",
      "Error con 02-22-2020.csv: HTTP Error 429: Too Many Requests\n",
      "Cargando: 02-23-2020.csv\n",
      "Error con 02-23-2020.csv: HTTP Error 429: Too Many Requests\n",
      "Cargando: 02-24-2020.csv\n",
      "Error con 02-24-2020.csv: HTTP Error 429: Too Many Requests\n",
      "Cargando: 02-25-2020.csv\n",
      "Error con 02-25-2020.csv: HTTP Error 429: Too Many Requests\n",
      "Cargando: 02-26-2020.csv\n",
      "Error con 02-26-2020.csv: HTTP Error 429: Too Many Requests\n",
      "Cargando: 02-27-2020.csv\n",
      "Error con 02-27-2020.csv: HTTP Error 429: Too Many Requests\n",
      "Cargando: 02-28-2020.csv\n",
      "Error con 02-28-2020.csv: HTTP Error 429: Too Many Requests\n",
      "Cargando: 02-29-2020.csv\n",
      "Error con 02-29-2020.csv: HTTP Error 429: Too Many Requests\n",
      "\n",
      "Total de registros: 430\n",
      "Fechas cargadas: 2020-02-01 00:00:00 a 2020-02-17 00:00:00\n"
     ]
    }
   ],
   "source": [
    "import pandas as pd\n",
    "from datetime import datetime, timedelta\n",
    "\n",
    "base_url = \"https://raw.githubusercontent.com/CSSEGISandData/COVID-19/master/csse_covid_19_data/csse_covid_19_daily_reports/\"\n",
    "\n",
    "# Generar fechas de febrero 2020\n",
    "dates = pd.date_range(start='2020-02-01', end='2020-02-29', freq='D')\n",
    "\n",
    "dfs = []\n",
    "for date in dates:\n",
    "    try:\n",
    "        # Formato: MM-DD-YYYY\n",
    "        filename = date.strftime('%m-%d-%Y') + '.csv'\n",
    "        url = base_url + filename\n",
    "        print(f\"Cargando: {filename}\")\n",
    "        \n",
    "        df = pd.read_csv(url)\n",
    "        df['Date'] = date  # Agregar columna de fecha\n",
    "        dfs.append(df)\n",
    "    except Exception as e:\n",
    "        print(f\"Error con {filename}: {e}\")\n",
    "\n",
    "# Concatenar todos los DataFrames\n",
    "df_enero = pd.concat(dfs, ignore_index=True)\n",
    "print(f\"\\nTotal de registros: {len(df_enero)}\")\n",
    "print(f\"Fechas cargadas: {df_enero['Date'].min()} a {df_enero['Date'].max()}\")"
   ]
  },
  {
   "cell_type": "code",
   "execution_count": 3,
   "id": "24c7f50e",
   "metadata": {},
   "outputs": [
    {
     "data": {
      "text/html": [
       "<div>\n",
       "<style scoped>\n",
       "    .dataframe tbody tr th:only-of-type {\n",
       "        vertical-align: middle;\n",
       "    }\n",
       "\n",
       "    .dataframe tbody tr th {\n",
       "        vertical-align: top;\n",
       "    }\n",
       "\n",
       "    .dataframe thead th {\n",
       "        text-align: right;\n",
       "    }\n",
       "</style>\n",
       "<table border=\"1\" class=\"dataframe\">\n",
       "  <thead>\n",
       "    <tr style=\"text-align: right;\">\n",
       "      <th></th>\n",
       "      <th>Province/State</th>\n",
       "      <th>Country/Region</th>\n",
       "      <th>Last Update</th>\n",
       "      <th>Confirmed</th>\n",
       "      <th>Deaths</th>\n",
       "      <th>Recovered</th>\n",
       "      <th>Date</th>\n",
       "    </tr>\n",
       "  </thead>\n",
       "  <tbody>\n",
       "    <tr>\n",
       "      <th>422</th>\n",
       "      <td>England</td>\n",
       "      <td>United Kingdom</td>\n",
       "      <td>2020-02-17T23:13:06</td>\n",
       "      <td>0</td>\n",
       "      <td>2</td>\n",
       "      <td>0</td>\n",
       "      <td>2020-02-17</td>\n",
       "    </tr>\n",
       "    <tr>\n",
       "      <th>75</th>\n",
       "      <td>Negeri Sembilan</td>\n",
       "      <td>Malaysia</td>\n",
       "      <td>2/1/2020 11:53</td>\n",
       "      <td>0</td>\n",
       "      <td>0</td>\n",
       "      <td>0</td>\n",
       "      <td>2020-02-01</td>\n",
       "    </tr>\n",
       "    <tr>\n",
       "      <th>177</th>\n",
       "      <td>Cook Islands</td>\n",
       "      <td>New Zealand</td>\n",
       "      <td>2020-02-07T23:43:02</td>\n",
       "      <td>0</td>\n",
       "      <td>0</td>\n",
       "      <td>0</td>\n",
       "      <td>2020-02-07</td>\n",
       "    </tr>\n",
       "    <tr>\n",
       "      <th>30</th>\n",
       "      <td>Jilin</td>\n",
       "      <td>Mainland China</td>\n",
       "      <td>2/1/2020 1:52</td>\n",
       "      <td>17</td>\n",
       "      <td>0</td>\n",
       "      <td>1</td>\n",
       "      <td>2020-02-01</td>\n",
       "    </tr>\n",
       "    <tr>\n",
       "      <th>361</th>\n",
       "      <td>NaN</td>\n",
       "      <td>United Arab Emirates</td>\n",
       "      <td>2020-02-16T20:43:02</td>\n",
       "      <td>9</td>\n",
       "      <td>0</td>\n",
       "      <td>4</td>\n",
       "      <td>2020-02-17</td>\n",
       "    </tr>\n",
       "  </tbody>\n",
       "</table>\n",
       "</div>"
      ],
      "text/plain": [
       "      Province/State        Country/Region          Last Update  Confirmed  \\\n",
       "422          England        United Kingdom  2020-02-17T23:13:06          0   \n",
       "75   Negeri Sembilan              Malaysia       2/1/2020 11:53          0   \n",
       "177     Cook Islands           New Zealand  2020-02-07T23:43:02          0   \n",
       "30             Jilin        Mainland China        2/1/2020 1:52         17   \n",
       "361              NaN  United Arab Emirates  2020-02-16T20:43:02          9   \n",
       "\n",
       "     Deaths  Recovered       Date  \n",
       "422       2          0 2020-02-17  \n",
       "75        0          0 2020-02-01  \n",
       "177       0          0 2020-02-07  \n",
       "30        0          1 2020-02-01  \n",
       "361       0          4 2020-02-17  "
      ]
     },
     "execution_count": 3,
     "metadata": {},
     "output_type": "execute_result"
    }
   ],
   "source": [
    "df_enero.sample(5, random_state=42)\n"
   ]
  },
  {
   "cell_type": "code",
   "execution_count": 5,
   "id": "590e7f9f",
   "metadata": {},
   "outputs": [
    {
     "name": "stdout",
     "output_type": "stream",
     "text": [
      "   Total de filas: 430\n",
      "   Total de columnas: 7\n"
     ]
    }
   ],
   "source": [
    "#2. Mostrar el número total de filas y columnas del DataFrame.\n",
    "print(f\"   Total de filas: {df_enero.shape[0]:,}\")\n",
    "print(f\"   Total de columnas: {df_enero.shape[1]}\")"
   ]
  },
  {
   "cell_type": "code",
   "execution_count": null,
   "id": "7a5ea799",
   "metadata": {},
   "outputs": [
    {
     "name": "stdout",
     "output_type": "stream",
     "text": [
      "<class 'pandas.core.frame.DataFrame'>\n",
      "RangeIndex: 430 entries, 0 to 429\n",
      "Data columns (total 7 columns):\n",
      " #   Column          Non-Null Count  Dtype         \n",
      "---  ------          --------------  -----         \n",
      " 0   Province/State  318 non-null    object        \n",
      " 1   Country/Region  430 non-null    object        \n",
      " 2   Last Update     430 non-null    object        \n",
      " 3   Confirmed       430 non-null    int64         \n",
      " 4   Deaths          430 non-null    int64         \n",
      " 5   Recovered       430 non-null    int64         \n",
      " 6   Date            430 non-null    datetime64[ns]\n",
      "dtypes: datetime64[ns](1), int64(3), object(3)\n",
      "memory usage: 23.6+ KB\n"
     ]
    }
   ],
   "source": [
    "# 3. Mostrar información general del DataFrame incluyendo tipos de datos\n",
    "df_enero.info()"
   ]
  },
  {
   "cell_type": "code",
   "execution_count": null,
   "id": "f84fb417",
   "metadata": {},
   "outputs": [
    {
     "data": {
      "text/plain": [
       "Province/State            object\n",
       "Country/Region            object\n",
       "Last Update       datetime64[ns]\n",
       "Confirmed                  int64\n",
       "Deaths                     int64\n",
       "Recovered                  int64\n",
       "Date              datetime64[ns]\n",
       "dtype: object"
      ]
     },
     "execution_count": 10,
     "metadata": {},
     "output_type": "execute_result"
    }
   ],
   "source": [
    "#convertir las columnas necesarias (por ejemplo,fechas).\n",
    "if 'Last_Update' in df_enero.columns:\n",
    "    df_enero['Last_Update'] = pd.to_datetime(df_enero['Last_Update'], format='mixed', errors='coerce')\n",
    "elif 'Last Update' in df_enero.columns:\n",
    "    df_enero['Last Update'] = pd.to_datetime(df_enero['Last Update'], format='mixed', errors='coerce')\n",
    "\n",
    "numeric_columns = ['Confirmed', 'Deaths', 'Recovered']\n",
    "for col in numeric_columns:\n",
    "    if col in df_enero.columns:\n",
    "        df_enero[col] = pd.to_numeric(df_enero[col], errors='coerce').fillna(0).astype(int)\n",
    "\n",
    "df_enero.dtypes"
   ]
  },
  {
   "cell_type": "code",
   "execution_count": 11,
   "id": "9bf6ffd0",
   "metadata": {},
   "outputs": [
    {
     "data": {
      "text/plain": [
       "Province/State    112\n",
       "Country/Region      0\n",
       "Last Update         0\n",
       "Confirmed           0\n",
       "Deaths              0\n",
       "Recovered           0\n",
       "Date                0\n",
       "dtype: int64"
      ]
     },
     "execution_count": 11,
     "metadata": {},
     "output_type": "execute_result"
    }
   ],
   "source": [
    "#4. Detectar y mostrar valores nulos o faltantes por columna\n",
    "df_enero.isnull().sum()"
   ]
  },
  {
   "cell_type": "code",
   "execution_count": 12,
   "id": "05f90366",
   "metadata": {},
   "outputs": [
    {
     "data": {
      "text/plain": [
       "Index(['Province/State', 'Country/Region', 'Last Update', 'Confirmed',\n",
       "       'Deaths', 'Recovered', 'Date'],\n",
       "      dtype='object')"
      ]
     },
     "execution_count": 12,
     "metadata": {},
     "output_type": "execute_result"
    }
   ],
   "source": [
    "#5. Eliminar columnas irrelevantes\n",
    "columns_to_drop = ['FIPS', 'Admin2', 'Lat', 'Long_', 'Latitude', 'Longitude', 'Combined_Key']\n",
    "df_enero = df_enero.drop(columns=[col for col in columns_to_drop if col in df_enero.columns])\n",
    "df_enero.columns"
   ]
  },
  {
   "cell_type": "code",
   "execution_count": 13,
   "id": "748f61e1",
   "metadata": {},
   "outputs": [
    {
     "data": {
      "text/plain": [
       "Index(['province_state', 'country_region', 'last_update', 'confirmed',\n",
       "       'deaths', 'recovered', 'date'],\n",
       "      dtype='object')"
      ]
     },
     "execution_count": 13,
     "metadata": {},
     "output_type": "execute_result"
    }
   ],
   "source": [
    "#6. Estandarizar nombres de columnas (usar formato snake_case)\n",
    "df_enero.columns = df_enero.columns.str.lower().str.replace(' ', '_').str.replace('/', '_').str.replace('-', '_')\n",
    "df_enero.columns"
   ]
  },
  {
   "cell_type": "code",
   "execution_count": 14,
   "id": "ab1ac912",
   "metadata": {},
   "outputs": [
    {
     "data": {
      "text/plain": [
       "country_region\n",
       "China             128\n",
       "Malaysia           68\n",
       "United States      36\n",
       "United Kingdom     32\n",
       "Australia          16\n",
       "Canada             11\n",
       "New Zealand         8\n",
       "Japan               4\n",
       "Thailand            4\n",
       "Macau               4\n",
       "Name: count, dtype: int64"
      ]
     },
     "execution_count": 14,
     "metadata": {},
     "output_type": "execute_result"
    }
   ],
   "source": [
    "#7. Homogeneizar nombres de países\n",
    "country_mapping = {\n",
    "    'US': 'United States',\n",
    "    'UK': 'United Kingdom',\n",
    "    'Korea, South': 'South Korea',\n",
    "    'Taiwan*': 'Taiwan',\n",
    "    'Mainland China': 'China'\n",
    "}\n",
    "\n",
    "if 'country_region' in df_enero.columns:\n",
    "    df_enero['country_region'] = df_enero['country_region'].replace(country_mapping)\n",
    "elif 'country/region' in df_enero.columns:\n",
    "    df_enero['country/region'] = df_enero['country/region'].replace(country_mapping)\n",
    "\n",
    "df_enero['country_region'].value_counts().head(10)"
   ]
  },
  {
   "cell_type": "code",
   "execution_count": 15,
   "id": "3a01855e",
   "metadata": {},
   "outputs": [
    {
     "data": {
      "text/html": [
       "<div>\n",
       "<style scoped>\n",
       "    .dataframe tbody tr th:only-of-type {\n",
       "        vertical-align: middle;\n",
       "    }\n",
       "\n",
       "    .dataframe tbody tr th {\n",
       "        vertical-align: top;\n",
       "    }\n",
       "\n",
       "    .dataframe thead th {\n",
       "        text-align: right;\n",
       "    }\n",
       "</style>\n",
       "<table border=\"1\" class=\"dataframe\">\n",
       "  <thead>\n",
       "    <tr style=\"text-align: right;\">\n",
       "      <th></th>\n",
       "      <th>last_update</th>\n",
       "    </tr>\n",
       "  </thead>\n",
       "  <tbody>\n",
       "    <tr>\n",
       "      <th>0</th>\n",
       "      <td>2020-02-01</td>\n",
       "    </tr>\n",
       "    <tr>\n",
       "      <th>1</th>\n",
       "      <td>2020-02-01</td>\n",
       "    </tr>\n",
       "    <tr>\n",
       "      <th>2</th>\n",
       "      <td>2020-02-01</td>\n",
       "    </tr>\n",
       "    <tr>\n",
       "      <th>3</th>\n",
       "      <td>2020-02-01</td>\n",
       "    </tr>\n",
       "    <tr>\n",
       "      <th>4</th>\n",
       "      <td>2020-02-01</td>\n",
       "    </tr>\n",
       "  </tbody>\n",
       "</table>\n",
       "</div>"
      ],
      "text/plain": [
       "  last_update\n",
       "0  2020-02-01\n",
       "1  2020-02-01\n",
       "2  2020-02-01\n",
       "3  2020-02-01\n",
       "4  2020-02-01"
      ]
     },
     "execution_count": 15,
     "metadata": {},
     "output_type": "execute_result"
    }
   ],
   "source": [
    "#8. Convertir la columna Last_Update al formato YYYY-MM-DD\n",
    "if 'last_update' in df_enero.columns:\n",
    "    df_enero['last_update'] = pd.to_datetime(df_enero['last_update'], format='mixed', errors='coerce').dt.strftime('%Y-%m-%d')\n",
    "\n",
    "df_enero[['last_update']].head()"
   ]
  },
  {
   "cell_type": "code",
   "execution_count": 16,
   "id": "ff3ae4a0",
   "metadata": {},
   "outputs": [
    {
     "data": {
      "text/html": [
       "<div>\n",
       "<style scoped>\n",
       "    .dataframe tbody tr th:only-of-type {\n",
       "        vertical-align: middle;\n",
       "    }\n",
       "\n",
       "    .dataframe tbody tr th {\n",
       "        vertical-align: top;\n",
       "    }\n",
       "\n",
       "    .dataframe thead th {\n",
       "        text-align: right;\n",
       "    }\n",
       "</style>\n",
       "<table border=\"1\" class=\"dataframe\">\n",
       "  <thead>\n",
       "    <tr style=\"text-align: right;\">\n",
       "      <th></th>\n",
       "      <th>confirmed</th>\n",
       "      <th>deaths</th>\n",
       "      <th>recovered</th>\n",
       "      <th>active_cases</th>\n",
       "    </tr>\n",
       "  </thead>\n",
       "  <tbody>\n",
       "    <tr>\n",
       "      <th>0</th>\n",
       "      <td>7153</td>\n",
       "      <td>249</td>\n",
       "      <td>168</td>\n",
       "      <td>6736</td>\n",
       "    </tr>\n",
       "    <tr>\n",
       "      <th>1</th>\n",
       "      <td>599</td>\n",
       "      <td>0</td>\n",
       "      <td>21</td>\n",
       "      <td>578</td>\n",
       "    </tr>\n",
       "    <tr>\n",
       "      <th>2</th>\n",
       "      <td>535</td>\n",
       "      <td>0</td>\n",
       "      <td>14</td>\n",
       "      <td>521</td>\n",
       "    </tr>\n",
       "    <tr>\n",
       "      <th>3</th>\n",
       "      <td>422</td>\n",
       "      <td>2</td>\n",
       "      <td>3</td>\n",
       "      <td>417</td>\n",
       "    </tr>\n",
       "    <tr>\n",
       "      <th>4</th>\n",
       "      <td>389</td>\n",
       "      <td>0</td>\n",
       "      <td>8</td>\n",
       "      <td>381</td>\n",
       "    </tr>\n",
       "  </tbody>\n",
       "</table>\n",
       "</div>"
      ],
      "text/plain": [
       "   confirmed  deaths  recovered  active_cases\n",
       "0       7153     249        168          6736\n",
       "1        599       0         21           578\n",
       "2        535       0         14           521\n",
       "3        422       2          3           417\n",
       "4        389       0          8           381"
      ]
     },
     "execution_count": 16,
     "metadata": {},
     "output_type": "execute_result"
    }
   ],
   "source": [
    "#9. Crear una columna active_cases = Confirmed - Deaths - Recovered\n",
    "df_enero['active_cases'] = df_enero['confirmed'] - df_enero['deaths'] - df_enero['recovered']\n",
    "df_enero[['confirmed', 'deaths', 'recovered', 'active_cases']].head()"
   ]
  },
  {
   "cell_type": "code",
   "execution_count": 18,
   "id": "5c612ea4",
   "metadata": {},
   "outputs": [
    {
     "name": "stdout",
     "output_type": "stream",
     "text": [
      "Archivo guardado: ../data/processed/covid_clean_febrero2020.csv\n",
      "Tamaño del archivo: 0.02 MB\n"
     ]
    }
   ],
   "source": [
    "#10. Guardar el DataFrame limpio como covid_clean_enero2020.csv e indicar su tamaño en MB\n",
    "import os\n",
    "\n",
    "output_path = '../data/processed/covid_clean_febrero2020.csv'\n",
    "df_enero.to_csv(output_path, index=False)\n",
    "\n",
    "file_size_mb = os.path.getsize(output_path) / (1024 * 1024)\n",
    "print(f\"Archivo guardado: {output_path}\")\n",
    "print(f\"Tamaño del archivo: {file_size_mb:.2f} MB\")"
   ]
  }
 ],
 "metadata": {
  "kernelspec": {
   "display_name": "venv",
   "language": "python",
   "name": "python3"
  },
  "language_info": {
   "codemirror_mode": {
    "name": "ipython",
    "version": 3
   },
   "file_extension": ".py",
   "mimetype": "text/x-python",
   "name": "python",
   "nbconvert_exporter": "python",
   "pygments_lexer": "ipython3",
   "version": "3.12.2"
  }
 },
 "nbformat": 4,
 "nbformat_minor": 5
}
