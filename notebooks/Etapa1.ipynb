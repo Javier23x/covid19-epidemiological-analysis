{
 "cells": [
  {
   "cell_type": "code",
   "execution_count": null,
   "id": "a8f5e70b",
   "metadata": {},
   "outputs": [
    {
     "ename": "",
     "evalue": "",
     "output_type": "error",
     "traceback": [
      "\u001b[1;31mRunning cells with 'Python 3.13.5' requires the ipykernel package.\n",
      "\u001b[1;31m<a href='command:jupyter.createPythonEnvAndSelectController'>Create a Python Environment</a> with the required packages.\n",
      "\u001b[1;31mOr install 'ipykernel' using the command: '/bin/python -m pip install ipykernel -U --user --force-reinstall'"
     ]
    }
   ],
   "source": [
    "import pandas as pd\n",
    "from datetime import datetime, timedelta\n",
    "\n",
    "base_url = \"https://raw.githubusercontent.com/CSSEGISandData/COVID-19/master/csse_covid_19_data/csse_covid_19_daily_reports/\"\n",
    "\n",
    "# Generar fechas de febrero 2020\n",
    "dates = pd.date_range(start='2020-02-01', end='2020-02-29', freq='D')\n",
    "\n",
    "dfs = []\n",
    "for date in dates:\n",
    "    try:\n",
    "        # Formato: MM-DD-YYYY\n",
    "        filename = date.strftime('%m-%d-%Y') + '.csv'\n",
    "        url = base_url + filename\n",
    "        print(f\"Cargando: {filename}\")\n",
    "        \n",
    "        df = pd.read_csv(url)\n",
    "        df['Date'] = date  # Agregar columna de fecha\n",
    "        dfs.append(df)\n",
    "    except Exception as e:\n",
    "        print(f\"Error con {filename}: {e}\")\n",
    "\n",
    "# Concatenar todos los DataFrames\n",
    "df_enero = pd.concat(dfs, ignore_index=True)\n",
    "print(f\"\\nTotal de registros: {len(df_enero)}\")\n",
    "print(f\"Fechas cargadas: {df_enero['Date'].min()} a {df_enero['Date'].max()}\")"
   ]
  }
 ],
 "metadata": {
  "kernelspec": {
   "display_name": "Python 3",
   "language": "python",
   "name": "python3"
  },
  "language_info": {
   "name": "python",
   "version": "3.13.5"
  }
 },
 "nbformat": 4,
 "nbformat_minor": 5
}
